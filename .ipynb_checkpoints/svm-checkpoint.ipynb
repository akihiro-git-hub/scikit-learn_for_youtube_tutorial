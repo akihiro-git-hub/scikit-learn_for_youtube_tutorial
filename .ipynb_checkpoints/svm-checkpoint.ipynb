{
 "cells": [
  {
   "cell_type": "code",
   "execution_count": 7,
   "metadata": {},
   "outputs": [],
   "source": [
    "import sklearn\n",
    "from sklearn import svm\n",
    "import pandas as pd\n",
    "import joblib"
   ]
  },
  {
   "cell_type": "code",
   "execution_count": 8,
   "metadata": {},
   "outputs": [
    {
     "data": {
      "text/plain": [
       "['svm.learn']"
      ]
     },
     "execution_count": 8,
     "metadata": {},
     "output_type": "execute_result"
    }
   ],
   "source": [
    "train_data = pd.read_csv('input.csv')\n",
    "train_x = data.loc[:,['x1','x2']]\n",
    "train_y = data['x3']\n",
    "\n",
    "clf = svm.SVC(gamma=0.01, C = 100)\n",
    "\n",
    "clf.fit(train_x,train_y)\n",
    "\n",
    "joblib.dump(clf, 'svm.learn')"
   ]
  },
  {
   "cell_type": "code",
   "execution_count": 13,
   "metadata": {},
   "outputs": [
    {
     "name": "stdout",
     "output_type": "stream",
     "text": [
      "[0 1 1 0]\n",
      "検証結果： [0 1 1 0]\n",
      "accuracy: 1.0\n"
     ]
    }
   ],
   "source": [
    "test_data = pd.read_csv('test.csv')\n",
    "test_x = data.loc[:,['x1','x2']]\n",
    "test_y = data['x3'].values\n",
    "\n",
    "clf2 = joblib.load('svm.learn') \n",
    "\n",
    "predict_y = clf2.predict(test_x)\n",
    "\n",
    "print(test_y)\n",
    "print('検証結果：', predict_y)\n",
    "\n",
    "acc_point = 0\n",
    "\n",
    "for i in range(len(predict_y)):\n",
    "    if test_y[i] == predict_y[i]:\n",
    "        acc_point += 1\n",
    "    else :\n",
    "        pass\n",
    "acc = acc_point/len(predict_y)\n",
    "\n",
    "print('accuracy:', acc)"
   ]
  },
  {
   "cell_type": "code",
   "execution_count": null,
   "metadata": {},
   "outputs": [],
   "source": []
  }
 ],
 "metadata": {
  "kernelspec": {
   "display_name": "Python 3.7.1 64-bit",
   "language": "python",
   "name": "python37164bit745322e800af484d9e7663a15d4e0767"
  },
  "language_info": {
   "codemirror_mode": {
    "name": "ipython",
    "version": 3
   },
   "file_extension": ".py",
   "mimetype": "text/x-python",
   "name": "python",
   "nbconvert_exporter": "python",
   "pygments_lexer": "ipython3",
   "version": "3.7.1"
  }
 },
 "nbformat": 4,
 "nbformat_minor": 4
}
