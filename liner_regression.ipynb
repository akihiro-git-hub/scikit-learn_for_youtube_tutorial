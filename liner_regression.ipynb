{
 "cells": [
  {
   "cell_type": "code",
   "execution_count": 2,
   "metadata": {},
   "outputs": [
    {
     "name": "stdout",
     "output_type": "stream",
     "text": [
      "Requirement already satisfied: scikit_learn in c:\\users\\odoru\\appdata\\local\\programs\\python\\python37\\lib\\site-packages (0.23.1)\n",
      "Requirement already satisfied: threadpoolctl>=2.0.0 in c:\\users\\odoru\\appdata\\local\\programs\\python\\python37\\lib\\site-packages (from scikit_learn) (2.1.0)\n",
      "Requirement already satisfied: numpy>=1.13.3 in c:\\users\\odoru\\appdata\\local\\programs\\python\\python37\\lib\\site-packages (from scikit_learn) (1.19.0)\n",
      "Requirement already satisfied: joblib>=0.11 in c:\\users\\odoru\\appdata\\local\\programs\\python\\python37\\lib\\site-packages (from scikit_learn) (0.16.0)\n",
      "Requirement already satisfied: scipy>=0.19.1 in c:\\users\\odoru\\appdata\\local\\programs\\python\\python37\\lib\\site-packages (from scikit_learn) (1.4.1)\n",
      "Note: you may need to restart the kernel to use updated packages.\n"
     ]
    }
   ],
   "source": [
    "pip install scikit_learn"
   ]
  },
  {
   "cell_type": "code",
   "execution_count": 2,
   "metadata": {
    "scrolled": true
   },
   "outputs": [],
   "source": [
    "import pandas as pd\n",
    "import numpy as np\n",
    "from sklearn import linear_model\n",
    "import joblib"
   ]
  },
  {
   "cell_type": "code",
   "execution_count": 3,
   "metadata": {},
   "outputs": [
    {
     "name": "stdout",
     "output_type": "stream",
     "text": [
      "   x1    x2  x3\n",
      "0  45  17.5  30\n",
      "1  38  17.0  25\n",
      "2  41  18.5  20\n",
      "3  34  18.5  30\n",
      "4  59  16.0  45\n",
      "5  47  19.0  35\n",
      "6  35  19.5  25\n",
      "7  43  16.0  35\n",
      "8  54  18.0  35\n",
      "9  52  19.0  40\n",
      "(10, 3)\n"
     ]
    }
   ],
   "source": [
    "# データ読み込み\n",
    "data = pd.read_csv(\"liner_regression.csv\")\n",
    "\n",
    "print(data)\n",
    "\n",
    "print(data.shape)"
   ]
  },
  {
   "cell_type": "code",
   "execution_count": 4,
   "metadata": {},
   "outputs": [
    {
     "name": "stdout",
     "output_type": "stream",
     "text": [
      "回帰係数: [-0.0495481]\n",
      "切片: [20.11975468]\n",
      "決定係数: 0.10943356354296774\n"
     ]
    },
    {
     "data": {
      "text/plain": [
       "['clf.learn']"
      ]
     },
     "execution_count": 4,
     "metadata": {},
     "output_type": "execute_result"
    }
   ],
   "source": [
    "x_data = data.loc[:,['x1']]\n",
    "y_data = data.loc[:,['x2']]\n",
    "\n",
    "clf = linear_model.LinearRegression()\n",
    "clf.fit(x_data,y_data)\n",
    "\n",
    "[a] = clf.coef_\n",
    "b = clf.intercept_\n",
    "\n",
    "print('回帰係数:',a)\n",
    "print('切片:', b)\n",
    "print('決定係数:', clf.score(x_data,y_data))\n",
    "\n",
    "joblib.dump(clf,'clf.learn')"
   ]
  },
  {
   "cell_type": "code",
   "execution_count": null,
   "metadata": {},
   "outputs": [],
   "source": []
  },
  {
   "cell_type": "code",
   "execution_count": null,
   "metadata": {},
   "outputs": [],
   "source": []
  },
  {
   "cell_type": "code",
   "execution_count": null,
   "metadata": {},
   "outputs": [],
   "source": []
  }
 ],
 "metadata": {
  "kernelspec": {
   "display_name": "Python 3.7.1 64-bit",
   "language": "python",
   "name": "python37164bit745322e800af484d9e7663a15d4e0767"
  },
  "language_info": {
   "codemirror_mode": {
    "name": "ipython",
    "version": 3
   },
   "file_extension": ".py",
   "mimetype": "text/x-python",
   "name": "python",
   "nbconvert_exporter": "python",
   "pygments_lexer": "ipython3",
   "version": "3.7.1"
  }
 },
 "nbformat": 4,
 "nbformat_minor": 4
}
