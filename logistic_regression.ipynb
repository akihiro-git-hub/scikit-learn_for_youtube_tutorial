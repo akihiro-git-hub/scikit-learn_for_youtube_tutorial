{
 "cells": [
  {
   "cell_type": "code",
   "execution_count": 3,
   "metadata": {},
   "outputs": [],
   "source": [
    "import sklearn\n",
    "from sklearn import linear_model\n",
    "import numpy \n",
    "import pandas as pd\n",
    "import joblib"
   ]
  },
  {
   "cell_type": "code",
   "execution_count": 5,
   "metadata": {},
   "outputs": [
    {
     "name": "stdout",
     "output_type": "stream",
     "text": [
      "    x1  x2  x3\n",
      "0    3   2   0\n",
      "1    1   2   0\n",
      "2    5   6   1\n",
      "3    6   7   1\n",
      "4    5   5   1\n",
      "5    4   5   0\n",
      "6    3   6   0\n",
      "7    8   0   0\n",
      "8    9   6   1\n",
      "9    6   2   0\n",
      "10   7   8   1\n",
      "(11, 3)\n"
     ]
    }
   ],
   "source": [
    "data = pd.read_csv('input.csv')\n",
    "print(data)\n",
    "print(data.shape)"
   ]
  },
  {
   "cell_type": "code",
   "execution_count": 11,
   "metadata": {},
   "outputs": [
    {
     "name": "stdout",
     "output_type": "stream",
     "text": [
      "回帰係数： [[0.79826198 0.94551053]]\n",
      "切片： [-8.71899451]\n",
      "決定係数： 0.9090909090909091\n"
     ]
    },
    {
     "data": {
      "text/plain": [
       "['logistic_regression.learn']"
      ]
     },
     "execution_count": 11,
     "metadata": {},
     "output_type": "execute_result"
    }
   ],
   "source": [
    "x = data.loc[:,['x1','x2']]\n",
    "y = data['x3']\n",
    "\n",
    "clf = linear_model.LogisticRegression()\n",
    "\n",
    "clf.fit(x,y)\n",
    "\n",
    "a = clf.coef_\n",
    "b = clf.intercept_\n",
    "\n",
    "print('回帰係数：',a)\n",
    "print('切片：',b)\n",
    "print('決定係数：',clf.score(x,y))\n",
    "\n",
    "joblib.dump(clf,'logistic_regression.learn')"
   ]
  },
  {
   "cell_type": "code",
   "execution_count": 22,
   "metadata": {},
   "outputs": [
    {
     "name": "stdout",
     "output_type": "stream",
     "text": [
      "[0 1 1 0]\n",
      "検証結果： [0 1 1 0]\n",
      "accuracy: 1.0\n"
     ]
    }
   ],
   "source": [
    "test_data = pd.read_csv('test.csv')\n",
    "x = test_data.loc[:,['x1','x2']]\n",
    "y = test_data['x3'].values\n",
    "\n",
    "print(y)\n",
    "\n",
    "clf2 = joblib.load('logistic_regression.learn')\n",
    "\n",
    "y_predict = clf.predict(x)\n",
    "\n",
    "print('検証結果：', y_predict)\n",
    "\n",
    "acc_point = 0\n",
    "\n",
    "for i in range(len(y)):\n",
    "    if y[i] == y_predict[i]:\n",
    "        acc_point += 1\n",
    "    else :\n",
    "        pass\n",
    "        \n",
    "acc_num = acc_point/len(y)\n",
    "print('accuracy:', acc_num)    "
   ]
  },
  {
   "cell_type": "code",
   "execution_count": null,
   "metadata": {},
   "outputs": [],
   "source": []
  }
 ],
 "metadata": {
  "kernelspec": {
   "display_name": "Python 3.7.1 64-bit",
   "language": "python",
   "name": "python37164bit745322e800af484d9e7663a15d4e0767"
  },
  "language_info": {
   "codemirror_mode": {
    "name": "ipython",
    "version": 3
   },
   "file_extension": ".py",
   "mimetype": "text/x-python",
   "name": "python",
   "nbconvert_exporter": "python",
   "pygments_lexer": "ipython3",
   "version": "3.7.1"
  }
 },
 "nbformat": 4,
 "nbformat_minor": 4
}
