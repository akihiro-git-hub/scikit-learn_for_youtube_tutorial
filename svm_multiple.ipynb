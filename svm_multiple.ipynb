{
 "cells": [
  {
   "cell_type": "code",
   "execution_count": 1,
   "metadata": {},
   "outputs": [],
   "source": [
    "import sklearn\n",
    "from sklearn import svm\n",
    "import pandas as pd\n",
    "import joblib\n",
    "import matplotlib.pyplot as plt\n",
    "import numpy as np"
   ]
  },
  {
   "cell_type": "code",
   "execution_count": 2,
   "metadata": {},
   "outputs": [
    {
     "data": {
      "text/plain": [
       "['svm_multiple.learn']"
      ]
     },
     "execution_count": 2,
     "metadata": {},
     "output_type": "execute_result"
    }
   ],
   "source": [
    "train_data = pd.read_csv('svm_multiple_train.csv')\n",
    "x_train = train_data.loc[:,['x1','x2']]\n",
    "y_train = train_data['x3']\n",
    "\n",
    "clf = svm.SVC(gamma=0.01, C=100)\n",
    "\n",
    "clf.fit(x_train, y_train)\n",
    "\n",
    "joblib.dump(clf,'svm_multiple.learn')"
   ]
  },
  {
   "cell_type": "code",
   "execution_count": 3,
   "metadata": {},
   "outputs": [
    {
     "name": "stdout",
     "output_type": "stream",
     "text": [
      "[0 0 1 2 0 2 2 2 0 1 0]\n",
      "検証結果： [0 0 1 2 1 2 2 2 0 1 0]\n",
      "accuracy： 0.9090909090909091\n"
     ]
    }
   ],
   "source": [
    "test_data = pd.read_csv('svm_multiple_test.csv')\n",
    "x_test = test_data.loc[:,['x1','x2']].values\n",
    "y_test = test_data['x3'].values\n",
    "\n",
    "clf2 = joblib.load('svm_multiple.learn') \n",
    "\n",
    "predict_y = clf2.predict(x_test)\n",
    "\n",
    "print(y_test)\n",
    "print('検証結果：', predict_y)\n",
    "\n",
    "acc_counts = 0\n",
    "\n",
    "for i in range(len(y_test)):\n",
    "    if predict_y[i] == y_test[i]:\n",
    "        acc_counts += 1\n",
    "    else :\n",
    "        pass\n",
    "\n",
    "acc = acc_counts/len(y_test)\n",
    "\n",
    "print('accuracy：', acc)"
   ]
  },
  {
   "cell_type": "code",
   "execution_count": 4,
   "metadata": {},
   "outputs": [
    {
     "name": "stdout",
     "output_type": "stream",
     "text": [
      "[[ 1  1]\n",
      " [ 3  2]\n",
      " [ 4  7]\n",
      " [ 6 33]\n",
      " [ 7  2]\n",
      " [10  9]\n",
      " [21  0]\n",
      " [55  1]\n",
      " [ 5  2]\n",
      " [ 8  3]\n",
      " [ 3  3]]\n",
      "[0 0 1 2 0 2 2 2 0 1 0]\n",
      "(11, 2)\n",
      "(11,)\n",
      "(2, 11)\n",
      "[ 1  3  4  6  7 10 21 55  5  8  3]\n"
     ]
    }
   ],
   "source": [
    "print(x_test)\n",
    "print(y_test)\n",
    "\n",
    "print(x_test.shape)\n",
    "print(y_test.shape)\n",
    "\n",
    "print(x_test.T.shape)\n",
    "print(x_test.T[0])"
   ]
  },
  {
   "cell_type": "code",
   "execution_count": 5,
   "metadata": {},
   "outputs": [
    {
     "name": "stdout",
     "output_type": "stream",
     "text": [
      "(10000, 2)\n",
      "(2, 10000)\n"
     ]
    }
   ],
   "source": [
    "x1 = np.linspace(0,60,100)\n",
    "x2 = np.linspace(0,60,100)\n",
    "\n",
    "X1, X2 = np.meshgrid(x1,x2)\n",
    "plot_X = np.c_[X1.ravel(),X2.ravel()]\n",
    "\n",
    "plot_y = clf2.predict(plot_X)\n",
    "\n",
    "print(plot_X.shape)\n",
    "print(plot_X.T.shape)"
   ]
  },
  {
   "cell_type": "code",
   "execution_count": 6,
   "metadata": {},
   "outputs": [
    {
     "data": {
      "text/plain": [
       "<matplotlib.collections.PathCollection at 0x214194d1748>"
      ]
     },
     "execution_count": 6,
     "metadata": {},
     "output_type": "execute_result"
    },
    {
     "data": {
      "image/png": "[encoded data removed]",
      "text/plain": [
       "<Figure size 432x288 with 1 Axes>"
      ]
     },
     "metadata": {
      "needs_background": "light"
     },
     "output_type": "display_data"
    }
   ],
   "source": [
    "plt.figure()\n",
    "ax = plt.axes()\n",
    "\n",
    "plt.scatter(plot_X.T[0][plot_y == 0],plot_X.T[1][plot_y==0], marker = 'o', label = '0',color = 'blue',alpha = 0.01)\n",
    "plt.scatter(plot_X.T[0][plot_y == 1],plot_X.T[1][plot_y==1], marker = 'o', label = '1',color = 'red',alpha = 0.01)\n",
    "plt.scatter(plot_X.T[0][plot_y == 2],plot_X.T[1][plot_y==2], marker = 'o', label = '2',color = 'green',alpha = 0.01)\n",
    "\n"
   ]
  },
  {
   "cell_type": "code",
   "execution_count": 7,
   "metadata": {},
   "outputs": [
    {
     "data": {
      "image/png": "[encoded data removed]",
      "text/plain": [
       "<Figure size 432x288 with 1 Axes>"
      ]
     },
     "metadata": {
      "needs_background": "light"
     },
     "output_type": "display_data"
    }
   ],
   "source": [
    "plt.figure()\n",
    "ax = plt.axes()\n",
    "\n",
    "plt.scatter(plot_X.T[0][plot_y == 0],plot_X.T[1][plot_y==0], marker = 'o', label = '0',color = 'blue',alpha = 0.01)\n",
    "plt.scatter(plot_X.T[0][plot_y == 1],plot_X.T[1][plot_y==1], marker = 'o', label = '1',color = 'red',alpha = 0.01)\n",
    "plt.scatter(plot_X.T[0][plot_y == 2],plot_X.T[1][plot_y==2], marker = 'o', label = '2',color = 'green',alpha = 0.01)\n",
    "\n",
    "\n",
    "plt.scatter(x_test.T[0][y_test == 0], x_test.T[1][y_test == 0], marker='o', label=\"0\", color=\"blue\", alpha=1.0)\n",
    "plt.scatter(x_test.T[0][y_test == 1], x_test.T[1][y_test == 1], marker='o', label=\"1\", color=\"red\", alpha=1.0)\n",
    "plt.scatter(x_test.T[0][y_test == 2], x_test.T[1][y_test == 2], marker='o', label=\"2\", color=\"green\", alpha=1.0)\n",
    "\n",
    "plt.legend(loc=1)           \n",
    "plt.title('SVM TEST')   #\n",
    "plt.xlabel('x1')          \n",
    "plt.ylabel('x2')            \n",
    "\n",
    "plt.grid()                              # グリッドの表示\n",
    "\n",
    "plt.show()"
   ]
  },
  {
   "cell_type": "code",
   "execution_count": null,
   "metadata": {},
   "outputs": [],
   "source": []
  }
 ],
 "metadata": {
  "kernelspec": {
   "display_name": "Python 3.7.1 64-bit",
   "language": "python",
   "name": "python37164bit745322e800af484d9e7663a15d4e0767"
  },
  "language_info": {
   "codemirror_mode": {
    "name": "ipython",
    "version": 3
   },
   "file_extension": ".py",
   "mimetype": "text/x-python",
   "name": "python",
   "nbconvert_exporter": "python",
   "pygments_lexer": "ipython3",
   "version": "3.7.1"
  }
 },
 "nbformat": 4,
 "nbformat_minor": 4
}
